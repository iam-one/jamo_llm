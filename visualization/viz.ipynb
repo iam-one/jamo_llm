{
 "cells": [
  {
   "cell_type": "code",
   "execution_count": 1,
   "metadata": {
    "ExecuteTime": {
     "end_time": "2023-06-29T08:34:21.513676Z",
     "start_time": "2023-06-29T08:34:19.899543Z"
    },
    "collapsed": true
   },
   "outputs": [
    {
     "ename": "ValueError",
     "evalue": "empty separator",
     "output_type": "error",
     "traceback": [
      "\u001B[0;31m---------------------------------------------------------------------------\u001B[0m",
      "\u001B[0;31mValueError\u001B[0m                                Traceback (most recent call last)",
      "Input \u001B[0;32mIn [1]\u001B[0m, in \u001B[0;36m<cell line: 5>\u001B[0;34m()\u001B[0m\n\u001B[1;32m      3\u001B[0m label \u001B[38;5;241m=\u001B[39m \u001B[38;5;124m\"\u001B[39m\u001B[38;5;124mabcdefg\u001B[39m\u001B[38;5;124m\"\u001B[39m\n\u001B[1;32m      4\u001B[0m data \u001B[38;5;241m=\u001B[39m [\u001B[38;5;241m0.9\u001B[39m, \u001B[38;5;241m1.0\u001B[39m, \u001B[38;5;241m0.1\u001B[39m, \u001B[38;5;241m0.4\u001B[39m, \u001B[38;5;241m0.6\u001B[39m, \u001B[38;5;241m0.5\u001B[39m, \u001B[38;5;241m.2\u001B[39m]\n\u001B[0;32m----> 5\u001B[0m label \u001B[38;5;241m=\u001B[39m \u001B[43mlabel\u001B[49m\u001B[38;5;241;43m.\u001B[39;49m\u001B[43msplit\u001B[49m\u001B[43m(\u001B[49m\u001B[38;5;124;43m\"\u001B[39;49m\u001B[38;5;124;43m\"\u001B[39;49m\u001B[43m)\u001B[49m\n",
      "\u001B[0;31mValueError\u001B[0m: empty separator"
     ]
    }
   ],
   "source": [
    "import matplotlib.pyplot as plt\n",
    "\n",
    "label = \"abcdefg\"\n",
    "data = [0.9, 1.0, 0.1, 0.4, 0.6, 0.5, .2]\n",
    "label = label.split(\"\")"
   ]
  },
  {
   "cell_type": "code",
   "execution_count": null,
   "metadata": {
    "ExecuteTime": {
     "end_time": "2023-06-29T08:37:06.339666Z",
     "start_time": "2023-06-29T08:37:04.413378Z"
    }
   },
   "outputs": [],
   "source": []
  },
  {
   "cell_type": "code",
   "execution_count": 26,
   "metadata": {},
   "outputs": [
    {
     "data": {
      "image/png": "[encoded data removed]",
      "text/plain": [
       "<Figure size 540x252 with 1 Axes>"
      ]
     },
     "metadata": {
      "needs_background": "light"
     },
     "output_type": "display_data"
    }
   ],
   "source": [
    "\n",
    "bs = []\n",
    "for index, (l, d) in enumerate(zip(label, data)):\n",
    "    color_level = math.floor(d*100)\n",
    "    bs.append(plt.barh(1, d, color=colors[color_level-1].hex))\n",
    "ax = df.plot.barh(stacked=True)\n",
    "plt.legend(bs, label)\n",
    "\n",
    "plt.show()\n"
   ]
  },
  {
   "cell_type": "code",
   "execution_count": 122,
   "metadata": {},
   "outputs": [
    {
     "ename": "SyntaxError",
     "evalue": "invalid syntax (1164285580.py, line 21)",
     "output_type": "error",
     "traceback": [
      "\u001B[0;36m  Input \u001B[0;32mIn [122]\u001B[0;36m\u001B[0m\n\u001B[0;31m    dataframe_data = {str(i):. for i, d in zip(range(len(label)), data)}\u001B[0m\n\u001B[0m                             ^\u001B[0m\n\u001B[0;31mSyntaxError\u001B[0m\u001B[0;31m:\u001B[0m invalid syntax\n"
     ]
    }
   ],
   "source": [
    "from colour import Color\n",
    "import matplotlib.pyplot as plt\n",
    "import math\n",
    "import pandas as pd\n",
    "\n",
    "label = \"abcdefg\"\n",
    "data = [0.9, 1.0, 0.1, 0.4, 0.6, 0.5, .2]\n",
    "label = [i for i in label]\n",
    "\n",
    "plt.rcParams[\"figure.figsize\"] = [1, 2]\n",
    "plt.rcParams[\"figure.autolayout\"] = True\n",
    "\n",
    "start_color = Color(\"#FF3030\") \n",
    "end_color = Color(\"#F9B4A5\")\n",
    "red_colors = list(start_color.range_to(end_color,50))\n",
    "\n",
    "start_color = Color(\"#A5F9F9\")\n",
    "end_color = Color(\"#226AA3\")\n",
    "blue_colors = list(start_color.range_to(end_color,50))\n",
    "\n",
    "dataframe_data = {str(i):. for i, d in zip(range(len(label)), data)}\n",
    "color_levels = []\n",
    "for index, (l, d) in enumerate(zip(label, data)):\n",
    "    color_level = math.floor(d*100)\n",
    "    color_map = red_colors if color_level > 50 else blue_colors\n",
    "    color_level = color_level - 50 if color_level > 50 else color_level\n",
    "    color = color_map[color_level-1].hex\n",
    "    color_levels.append(color)\n",
    "    \n",
    "heights= [0.4] * len(label)\n",
    "\n",
    "df = pd.DataFrame(dataframe_data, index=[\"1\"])\n",
    "ax = df.plot.barh(stacked=True, color=color_levels, figsize=(10, 0.6))\n",
    "\n",
    "ax.legend('', frameon=False)\n",
    "plt.axis('off')\n",
    "\n",
    "for i, v in enumerate(label):\n",
    "    ax.text(i/10, -.02, v, color='white', fontweight='ultralight', fontsize=10)"
   ]
  },
  {
   "cell_type": "code",
   "execution_count": null,
   "metadata": {},
   "outputs": [],
   "source": []
  }
 ],
 "metadata": {
  "kernelspec": {
   "display_name": "Python 3 (ipykernel)",
   "language": "python",
   "name": "python3"
  },
  "language_info": {
   "codemirror_mode": {
    "name": "ipython",
    "version": 3
   },
   "file_extension": ".py",
   "mimetype": "text/x-python",
   "name": "python",
   "nbconvert_exporter": "python",
   "pygments_lexer": "ipython3",
   "version": "3.10.4"
  }
 },
 "nbformat": 4,
 "nbformat_minor": 1
}
